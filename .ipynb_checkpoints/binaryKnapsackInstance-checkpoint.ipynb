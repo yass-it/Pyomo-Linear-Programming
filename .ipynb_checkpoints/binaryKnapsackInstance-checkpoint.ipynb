{
 "cells": [
  {
   "cell_type": "code",
   "execution_count": 4,
   "metadata": {},
   "outputs": [],
   "source": [
    "import pyomo.environ as pe\n",
    "import pyomo.opt as po"
   ]
  },
  {
   "cell_type": "code",
   "execution_count": 5,
   "metadata": {},
   "outputs": [],
   "source": [
    "solver = po.SolverFactory('glpk') # GNU Linear Programming Kit"
   ]
  },
  {
   "cell_type": "markdown",
   "metadata": {},
   "source": [
    "## Model (Specific)\n",
    "Consider the following binary knapsack instance."
   ]
  },
  {
   "cell_type": "markdown",
   "metadata": {},
   "source": [
    "\\begin{align}\n",
    "    \\text{max}~~  & 3 x_1 + 4 x_2 + 5 x_3 + 8 x_4 + 9 x_5 \\\\\n",
    "    \\text{s.t.}~~ & 2 x_1 + 3 x_2 + 4 x_3 + 7 x_4 + 9 x_5 \\le 20 \\\\\n",
    "                  & x_1, x_2, x_3, x_4, x_5 \\in \\{0, 1\\}\n",
    "\\end{align}"
   ]
  },
  {
   "cell_type": "markdown",
   "metadata": {},
   "source": [
    "## Implement (Specific)"
   ]
  },
  {
   "cell_type": "code",
   "execution_count": 6,
   "metadata": {},
   "outputs": [],
   "source": [
    "model = pe.ConcreteModel()"
   ]
  },
  {
   "cell_type": "code",
   "execution_count": 7,
   "metadata": {},
   "outputs": [],
   "source": [
    "model.x1 = pe.Var(domain=pe.Binary)\n",
    "model.x2 = pe.Var(domain=pe.Binary)\n",
    "model.x3 = pe.Var(domain=pe.Binary)\n",
    "model.x4 = pe.Var(domain=pe.Binary)\n",
    "model.x5 = pe.Var(domain=pe.Binary)"
   ]
  },
  {
   "cell_type": "code",
   "execution_count": 8,
   "metadata": {},
   "outputs": [],
   "source": [
    "obj_expr = 3 * model.x1 + 4 * model.x2 + 5 * model.x3 + 8 * model.x4 + 9 * model.x5\n",
    "model.obj = pe.Objective(sense=pe.maximize, expr=obj_expr)"
   ]
  },
  {
   "cell_type": "code",
   "execution_count": 9,
   "metadata": {},
   "outputs": [],
   "source": [
    "con_expr = 2 * model.x1 + 3 * model.x2 + 4 * model.x3 + 5 * model.x4 + 9 * model.x5 <= 20\n",
    "model.con = pe.Constraint(expr=con_expr)"
   ]
  },
  {
   "cell_type": "markdown",
   "metadata": {},
   "source": [
    "## Solve and Postprocess"
   ]
  },
  {
   "cell_type": "code",
   "execution_count": 10,
   "metadata": {},
   "outputs": [
    {
     "name": "stdout",
     "output_type": "stream",
     "text": [
      "GLPSOL--GLPK LP/MIP Solver 5.0\n",
      "Parameter(s) specified in the command line:\n",
      " --write /var/folders/bj/_ycqv_ss2ll0b0s0dmytlvnm0000gq/T/tmp0o2a44nn.glpk.raw\n",
      " --wglp /var/folders/bj/_ycqv_ss2ll0b0s0dmytlvnm0000gq/T/tmpqr6umikq.glpk.glp\n",
      " --cpxlp /var/folders/bj/_ycqv_ss2ll0b0s0dmytlvnm0000gq/T/tmps0j0iy29.pyomo.lp\n",
      "Reading problem data from '/var/folders/bj/_ycqv_ss2ll0b0s0dmytlvnm0000gq/T/tmps0j0iy29.pyomo.lp'...\n",
      "/var/folders/bj/_ycqv_ss2ll0b0s0dmytlvnm0000gq/T/tmps0j0iy29.pyomo.lp:31: warning: lower bound of variable 'x1' redefined\n",
      "/var/folders/bj/_ycqv_ss2ll0b0s0dmytlvnm0000gq/T/tmps0j0iy29.pyomo.lp:31: warning: upper bound of variable 'x1' redefined\n",
      "2 rows, 6 columns, 6 non-zeros\n",
      "5 integer variables, all of which are binary\n",
      "36 lines were read\n",
      "Writing problem data to '/var/folders/bj/_ycqv_ss2ll0b0s0dmytlvnm0000gq/T/tmpqr6umikq.glpk.glp'...\n",
      "25 lines were written\n",
      "GLPK Integer Optimizer 5.0\n",
      "2 rows, 6 columns, 6 non-zeros\n",
      "5 integer variables, all of which are binary\n",
      "Preprocessing...\n",
      "3 constraint coefficient(s) were reduced\n",
      "1 row, 5 columns, 5 non-zeros\n",
      "5 integer variables, all of which are binary\n",
      "Scaling...\n",
      " A: min|aij| =  2.000e+00  max|aij| =  3.000e+00  ratio =  1.500e+00\n",
      "Problem data seem to be well scaled\n",
      "Constructing initial basis...\n",
      "Size of triangular part is 1\n",
      "Solving LP relaxation...\n",
      "GLPK Simplex Optimizer 5.0\n",
      "1 row, 5 columns, 5 non-zeros\n",
      "*     0: obj =  -0.000000000e+00 inf =   0.000e+00 (5)\n",
      "*     5: obj =   2.500000000e+01 inf =   0.000e+00 (0)\n",
      "OPTIMAL LP SOLUTION FOUND\n",
      "Integer optimization begins...\n",
      "Long-step dual simplex will be used\n",
      "+     5: mip =     not found yet <=              +inf        (1; 0)\n",
      "+     5: >>>>>   2.500000000e+01 <=   2.500000000e+01   0.0% (1; 0)\n",
      "+     5: mip =   2.500000000e+01 <=     tree is empty   0.0% (0; 1)\n",
      "INTEGER OPTIMAL SOLUTION FOUND\n",
      "Time used:   0.0 secs\n",
      "Memory used: 0.1 Mb (60111 bytes)\n",
      "Writing MIP solution to '/var/folders/bj/_ycqv_ss2ll0b0s0dmytlvnm0000gq/T/tmp0o2a44nn.glpk.raw'...\n",
      "17 lines were written\n"
     ]
    }
   ],
   "source": [
    "result = solver.solve(model, tee=True)"
   ]
  },
  {
   "cell_type": "code",
   "execution_count": 11,
   "metadata": {},
   "outputs": [
    {
     "name": "stdout",
     "output_type": "stream",
     "text": [
      "1.0\n",
      "0.0\n",
      "1.0\n",
      "1.0\n",
      "1.0\n",
      "25.0\n"
     ]
    }
   ],
   "source": [
    "print(pe.value(model.x1))\n",
    "print(pe.value(model.x2))\n",
    "print(pe.value(model.x3))\n",
    "print(pe.value(model.x4))\n",
    "print(pe.value(model.x5))\n",
    "print(pe.value(model.obj))"
   ]
  },
  {
   "cell_type": "markdown",
   "metadata": {},
   "source": [
    "## Model (General)\n",
    "The best way to use Pyomo is to implement the general form of the problem. The instance above is generalized by the formulation below. The set of items is $N$. The coefficients $c_i$ and $a_i$ are the cost and size, respectively of item $i$."
   ]
  },
  {
   "cell_type": "markdown",
   "metadata": {},
   "source": [
    "\\begin{align}\n",
    "    \\text{max}~~  & \\sum_{i \\in N}{c_i x_i} \\\\\n",
    "    \\text{s.t.}~~ & \\sum_{i \\in N}{a_i x_i} \\le b \\\\\n",
    "                  & x_i \\in \\{0, 1\\}, \\forall i \\in N\n",
    "\\end{align}"
   ]
  },
  {
   "cell_type": "markdown",
   "metadata": {},
   "source": [
    "## Implement (General)"
   ]
  },
  {
   "cell_type": "code",
   "execution_count": 12,
   "metadata": {},
   "outputs": [],
   "source": [
    "model = pe.ConcreteModel()"
   ]
  },
  {
   "cell_type": "code",
   "execution_count": 13,
   "metadata": {},
   "outputs": [],
   "source": [
    "model.N = pe.RangeSet(1, 5)"
   ]
  },
  {
   "cell_type": "code",
   "execution_count": 14,
   "metadata": {},
   "outputs": [
    {
     "name": "stdout",
     "output_type": "stream",
     "text": [
      "{1, 2, 3, 4, 5}\n"
     ]
    }
   ],
   "source": [
    "print(set(model.N))"
   ]
  },
  {
   "cell_type": "code",
   "execution_count": 15,
   "metadata": {},
   "outputs": [],
   "source": [
    "c = {1: 3, 2: 4, 3: 5, 4: 8, 5: 9}\n",
    "a = {1: 2, 2: 3, 3: 4, 4: 5, 5: 9}\n",
    "b = 20"
   ]
  },
  {
   "cell_type": "code",
   "execution_count": 16,
   "metadata": {},
   "outputs": [],
   "source": [
    "model.c = pe.Param(model.N, initialize=c)\n",
    "model.a = pe.Param(model.N, initialize=a)\n",
    "model.b = pe.Param(initialize=b)"
   ]
  },
  {
   "cell_type": "markdown",
   "metadata": {},
   "source": [
    "For most model components, `print(model.component)` will print the name of the component (a string) and not the value (in most cases, a number)."
   ]
  },
  {
   "cell_type": "code",
   "execution_count": 17,
   "metadata": {},
   "outputs": [
    {
     "name": "stdout",
     "output_type": "stream",
     "text": [
      "c\n",
      "4\n",
      "b\n",
      "20\n",
      "20\n"
     ]
    }
   ],
   "source": [
    "print(model.c)\n",
    "print(model.c[2])\n",
    "print(model.b)\n",
    "print(model.b.value)\n",
    "print(pe.value(model.b))"
   ]
  },
  {
   "cell_type": "code",
   "execution_count": 18,
   "metadata": {},
   "outputs": [],
   "source": [
    "model.x = pe.Var(model.N, domain=pe.Binary)"
   ]
  },
  {
   "cell_type": "code",
   "execution_count": 19,
   "metadata": {},
   "outputs": [],
   "source": [
    "obj_expr = sum(model.c[i] * model.x[i] for i in model.N)\n",
    "model.obj = pe.Objective(sense=pe.maximize, expr=obj_expr)"
   ]
  },
  {
   "cell_type": "code",
   "execution_count": 20,
   "metadata": {},
   "outputs": [],
   "source": [
    "con_lhs_expr = sum(model.a[i] * model.x[i] for i in model.N)\n",
    "con_rhs_expr = model.b\n",
    "model.con = pe.Constraint(expr=(con_lhs_expr <= con_rhs_expr))"
   ]
  },
  {
   "cell_type": "code",
   "execution_count": 21,
   "metadata": {},
   "outputs": [],
   "source": [
    "result = solver.solve(model)"
   ]
  },
  {
   "cell_type": "markdown",
   "metadata": {},
   "source": [
    "After solving, variable values may be accessed either by `pe.value(model.myvar)` or `model.myvar.value`."
   ]
  },
  {
   "cell_type": "code",
   "execution_count": 22,
   "metadata": {},
   "outputs": [
    {
     "name": "stdout",
     "output_type": "stream",
     "text": [
      "1.0\n",
      "0.0\n",
      "1.0\n",
      "1.0\n",
      "1.0\n",
      "25.0\n"
     ]
    }
   ],
   "source": [
    "for i in model.N:\n",
    "    print(pe.value(model.x[i]))\n",
    "print(pe.value(model.obj))"
   ]
  }
 ],
 "metadata": {
  "kernelspec": {
   "display_name": "Python 3 (ipykernel)",
   "language": "python",
   "name": "python3"
  },
  "language_info": {
   "codemirror_mode": {
    "name": "ipython",
    "version": 3
   },
   "file_extension": ".py",
   "mimetype": "text/x-python",
   "name": "python",
   "nbconvert_exporter": "python",
   "pygments_lexer": "ipython3",
   "version": "3.9.7"
  }
 },
 "nbformat": 4,
 "nbformat_minor": 4
}
